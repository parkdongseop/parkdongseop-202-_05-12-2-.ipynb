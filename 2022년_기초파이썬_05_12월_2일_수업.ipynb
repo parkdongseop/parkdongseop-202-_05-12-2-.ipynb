{
  "nbformat": 4,
  "nbformat_minor": 0,
  "metadata": {
    "colab": {
      "provenance": [],
      "authorship_tag": "ABX9TyOpdoMlWlSibg5/uZKCKJr1",
      "include_colab_link": true
    },
    "kernelspec": {
      "name": "python3",
      "display_name": "Python 3"
    },
    "language_info": {
      "name": "python"
    }
  },
  "cells": [
    {
      "cell_type": "markdown",
      "metadata": {
        "id": "view-in-github",
        "colab_type": "text"
      },
      "source": [
        "<a href=\"https://colab.research.google.com/github/parkdongseop/parkdongseop-202-_05-12-2-.ipynb/blob/main/2022%EB%85%84_%EA%B8%B0%EC%B4%88%ED%8C%8C%EC%9D%B4%EC%8D%AC_05_12%EC%9B%94_2%EC%9D%BC_%EC%88%98%EC%97%85.ipynb\" target=\"_parent\"><img src=\"https://colab.research.google.com/assets/colab-badge.svg\" alt=\"Open In Colab\"/></a>"
      ]
    },
    {
      "cell_type": "code",
      "execution_count": null,
      "metadata": {
        "id": "XyUtfvwE2mez"
      },
      "outputs": [],
      "source": [
        "from turtle import * #turtle 모듈에서 모든 것을 불러온다.\n",
        "\n",
        "t1 = Turtle() # 거북이 객체 생성 \n",
        "t1.shape(\"circle\")\n",
        "\n",
        "t2 = Turtle()\n",
        "t2.shape(\"turtle\")\n",
        "\n",
        "t3 = Turtle()\n",
        "t3.shape(\"square\")\n",
        "\n",
        "t1.penup() # 펜을 든다.\n",
        "t2.penup()\n",
        "t1.goto(0, 100) #거북이를 이동한다.\n",
        "t2.goto(0, 50)\n",
        "t1.pendown() #펜을 내린다.\n",
        "t2.pendown()\n",
        "\n",
        "while True:\n",
        "    t1.circle(100) #원을 그린다.\n",
        "    t2.circle(150)\n",
        "    t3.circle(200)"
      ]
    }
  ]
}